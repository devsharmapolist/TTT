{
  "nbformat": 4,
  "nbformat_minor": 0,
  "metadata": {
    "colab": {
      "provenance": [],
      "authorship_tag": "ABX9TyPy0ES4FdjCK39QfrWp/74/",
      "include_colab_link": true
    },
    "kernelspec": {
      "name": "python3",
      "display_name": "Python 3"
    },
    "language_info": {
      "name": "python"
    }
  },
  "cells": [
    {
      "cell_type": "markdown",
      "metadata": {
        "id": "view-in-github",
        "colab_type": "text"
      },
      "source": [
        "<a href=\"https://colab.research.google.com/github/devsharmapolist/TTT/blob/main/Advpythonassignment.ipynb\" target=\"_parent\"><img src=\"https://colab.research.google.com/assets/colab-badge.svg\" alt=\"Open In Colab\"/></a>"
      ]
    },
    {
      "cell_type": "code",
      "execution_count": 3,
      "metadata": {
        "colab": {
          "base_uri": "https://localhost:8080/"
        },
        "id": "7ZuiuGxmVsXD",
        "outputId": "2ee6ef89-83b0-4f53-8119-e9854436d89c"
      },
      "outputs": [
        {
          "output_type": "stream",
          "name": "stdout",
          "text": [
            "Original String: Hello, World!\n",
            "Reversed String: !dlroW ,olleH\n"
          ]
        }
      ],
      "source": [
        "# Q1 code to reverse a string-\n",
        "def reverse_string(s):\n",
        "    return s[::-1]\n",
        "input_string = \"Hello, World!\"\n",
        "reversed_string = reverse_string(input_string)\n",
        "print(\"Original String:\", input_string)\n",
        "print(\"Reversed String:\", reversed_string)"
      ]
    },
    {
      "cell_type": "code",
      "source": [
        "# Q2 code to count the no. of vowels in a string-\n",
        "def count_vowels(s):\n",
        "    vowels = \"aeiouAEIOU\"\n",
        "    count = 0\n",
        "    for char in s:\n",
        "        if char in vowels:\n",
        "            count += 1\n",
        "    return count\n",
        "    input_string = \"Hello, World!\"\n",
        "vowel_count = count_vowels(input_string)\n",
        "print(\"Input String:\", input_string)\n",
        "print(\"Number of Vowels:\", vowel_count)"
      ],
      "metadata": {
        "colab": {
          "base_uri": "https://localhost:8080/"
        },
        "id": "gF-7aj5jWTVl",
        "outputId": "eab3aa81-2a73-4b3c-ecb2-77976640f126"
      },
      "execution_count": 5,
      "outputs": [
        {
          "output_type": "stream",
          "name": "stdout",
          "text": [
            "Input String: Hello, World!\n",
            "Number of Vowels: 3\n"
          ]
        }
      ]
    },
    {
      "cell_type": "code",
      "source": [
        "# Q3 code to check if a given string is a palindrome or not-\n",
        "def is_palindrome(s):\n",
        "  normalized = ''.join(char.lower() for char in s if char.isalnum())\n",
        "  return normalized == normalized[::-1]\n",
        "input_string = \"A man, a plan, a canal: Panama\"\n",
        "if is_palindrome(s=input_string):\n",
        "    print(f'\"{input_string}\" is a palindrome.')\n",
        "else:\n",
        "    print(f'\"{input_string}\" is not a palindrome.');\n",
        ""
      ],
      "metadata": {
        "colab": {
          "base_uri": "https://localhost:8080/"
        },
        "id": "aRJdA4PLXK_z",
        "outputId": "ab6acc7e-2ad8-476b-b727-5f6f05d874a7"
      },
      "execution_count": 19,
      "outputs": [
        {
          "output_type": "stream",
          "name": "stdout",
          "text": [
            "\"A man, a plan, a canal: Panama\" is a palindrome.\n"
          ]
        }
      ]
    },
    {
      "cell_type": "code",
      "source": [
        "# Q4 code to check if two given strings are anagrams of each other-\n",
        "def are_anagrams(str1, str2):\n",
        "    normalized_str1 = ''.join(sorted(str1.replace(\" \", \"\").lower()))\n",
        "    normalized_str2 = ''.join(sorted(str2.replace(\" \", \"\").lower()))\n",
        "    return normalized_str1 == normalized_str2\n",
        "string1 = \"listen\"\n",
        "string2 = \"Silent\"\n",
        "\n",
        "if are_anagrams(string1, string2):\n",
        "    print(f'\"{string1}\" and \"{string2}\" are anagrams.')\n",
        "else:\n",
        "    print(f'\"{string1}\" and \"{string2}\" are not anagrams.')\n"
      ],
      "metadata": {
        "colab": {
          "base_uri": "https://localhost:8080/"
        },
        "id": "1fKpOX1zaF3_",
        "outputId": "8be2c3dd-2514-4afa-94d8-c49b83455e06"
      },
      "execution_count": 16,
      "outputs": [
        {
          "output_type": "stream",
          "name": "stdout",
          "text": [
            "\"listen\" and \"Silent\" are anagrams.\n"
          ]
        }
      ]
    },
    {
      "cell_type": "code",
      "source": [
        "# Q5 code to find all occurrences of a given substring within another string-\n",
        "def find_all_occurrences(text, substring):\n",
        "    occurrences = []\n",
        "    start = 0\n",
        "    while start < len(text):\n",
        "      start = text.find(substring, start)\n",
        "      if start == -1:\n",
        "           break\n",
        "      occurrences.append(start)\n",
        "      start += 1\n",
        "      return occurrences\n",
        "text = \"This is a test. This test is only a test.\"\n",
        "substring = \"test\"\n",
        "\n",
        "occurrences = find_all_occurrences(text, substring)\n",
        "print(f'The substring \"{substring}\" was found at positions: {occurrences}')"
      ],
      "metadata": {
        "colab": {
          "base_uri": "https://localhost:8080/"
        },
        "id": "sFdm216Zb7W6",
        "outputId": "96dbe814-6e09-448f-fc49-91ffd0ffe9d5"
      },
      "execution_count": 22,
      "outputs": [
        {
          "output_type": "stream",
          "name": "stdout",
          "text": [
            "The substring \"test\" was found at positions: [10]\n"
          ]
        }
      ]
    },
    {
      "cell_type": "code",
      "source": [
        "# Q6 code to perform basic string compression using the counts of repeated characters\n",
        "def compress_string(s):\n",
        "    compressed = []\n",
        "    count = 1  # Initialize count for the first character\n",
        "\n",
        "    for i in range(1, len(s)):\n",
        "        if s[i] == s[i - 1]:\n",
        "            count += 1  # Increment count if the current char is the same as the previous\n",
        "        else:\n",
        "\n",
        "            compressed.append(s[i - 1] + str(count))\n",
        "            count = 1  # Reset count for the new character\n",
        "    if s:\n",
        "        compressed.append(s[-1] + str(count))\n",
        "    compressed_string = ''.join(compressed)\n",
        "    return compressed_string if len(compressed_string) < len(s) else s\n",
        "\n",
        "input_string = \"aaabcccccaaa\"\n",
        "compressed_string = compress_string(input_string)\n",
        "print(\"Original String:\", input_string)\n",
        "print(\"Compressed String:\", compressed_string)"
      ],
      "metadata": {
        "colab": {
          "base_uri": "https://localhost:8080/"
        },
        "id": "GDeIiA0_l02X",
        "outputId": "911a1c05-f8e8-4d6e-fd47-1d22b0e7f5d6"
      },
      "execution_count": 23,
      "outputs": [
        {
          "output_type": "stream",
          "name": "stdout",
          "text": [
            "Original String: aaabcccccaaa\n",
            "Compressed String: a3b1c5a3\n"
          ]
        }
      ]
    },
    {
      "cell_type": "code",
      "source": [
        "# Q7 code to determine if a string has all unique characters\n",
        "\n",
        "def has_unique_characters(s):\n",
        "\n",
        "    seen = set()\n",
        "    for char in s:\n",
        "        if char in seen:\n",
        "            return False\n",
        "        seen.add(char)\n",
        "    return True\n",
        "\n",
        "input_string = \"abcdefg\"\n",
        "if has_unique_characters(input_string):\n",
        "    print(f'The string \"{input_string}\" has all unique characters.')\n",
        "else:\n",
        "    print(f'The string \"{input_string}\" does not have all unique characters.')\n"
      ],
      "metadata": {
        "colab": {
          "base_uri": "https://localhost:8080/"
        },
        "id": "FI0eserrmrjn",
        "outputId": "90188cb2-946a-49b4-b619-b6995931864d"
      },
      "execution_count": 26,
      "outputs": [
        {
          "output_type": "stream",
          "name": "stdout",
          "text": [
            "The string \"abcdefg\" has all unique characters.\n"
          ]
        }
      ]
    },
    {
      "cell_type": "code",
      "source": [
        "# Q8  code to convert a given string to uppercase or lowercase\n"
      ],
      "metadata": {
        "id": "OYTT-h1JnakG"
      },
      "execution_count": null,
      "outputs": []
    }
  ]
}